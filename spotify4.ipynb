{
 "cells": [
  {
   "cell_type": "markdown",
   "id": "31a1a3e6-987c-4bb1-8ad6-95f5625dd3a7",
   "metadata": {},
   "source": [
    "## A binary classification model to predict whether a Spotify track will be explicit (True/False) based on its features"
   ]
  },
  {
   "cell_type": "code",
   "execution_count": 1,
   "id": "e1d834d6-f3f3-40ee-aa3f-06ba9baa9270",
   "metadata": {},
   "outputs": [
    {
     "name": "stdout",
     "output_type": "stream",
     "text": [
      "explicit\n",
      "0    0.810476\n",
      "1    0.189524\n",
      "Name: proportion, dtype: float64\n"
     ]
    }
   ],
   "source": [
    "# Data preparation\n",
    "\n",
    "import pandas as pd\n",
    "import numpy as np\n",
    "from sklearn.model_selection import train_test_split\n",
    "\n",
    "# load data \n",
    "df = pd.read_csv('spotify_tracks.csv')\n",
    "\n",
    "# select the features and target\n",
    "features = ['genre', 'duration_ms', 'popularity', 'artists'].copy()\n",
    "target = 'explicit'\n",
    "\n",
    "# prepare data\n",
    "df = df[features + [target]].dropna()\n",
    "df['explicit'] = df['explicit'].astype('int64')\n",
    "\n",
    "# check class balance\n",
    "print(df['explicit'].value_counts(normalize=True))"
   ]
  },
  {
   "cell_type": "code",
   "execution_count": 2,
   "id": "77539dd4-ce96-4907-9abe-fd8f1beaaf78",
   "metadata": {},
   "outputs": [
    {
     "name": "stdout",
     "output_type": "stream",
     "text": [
      "                  explicit\n",
      "explicit          1.000000\n",
      "popularity        0.070612\n",
      "artist_frequency  0.006128\n",
      "duration_min     -0.047099\n"
     ]
    }
   ],
   "source": [
    "## Feature Engineering\n",
    "\n",
    "# create new features\n",
    "df['artist_frequency'] = df.groupby('artists')['artists'].transform('count')\n",
    "\n",
    "#drop the original columns\n",
    "df['duration_min'] = df['duration_ms'] / 60000\n",
    "df = df.drop(['duration_ms', 'artists'], axis=1)\n",
    "\n",
    "# Select only numeric columns for correlation\n",
    "numeric_df = df.select_dtypes(include=['int64', 'float64'])\n",
    "\n",
    "# check correlation with target\n",
    "print(numeric_df.corr()[['explicit']].sort_values('explicit', ascending=False))\n"
   ]
  },
  {
   "cell_type": "code",
   "execution_count": 3,
   "id": "bb35b9c5-85ac-4c2e-b029-f3b5e9071b9d",
   "metadata": {},
   "outputs": [],
   "source": [
    "# Train/Test Split\n",
    "\n",
    "X = df.drop('explicit', axis=1)\n",
    "y = df['explicit']\n",
    "\n",
    "#split to train and test sets\n",
    "X_train, X_test, y_train, y_test = train_test_split(X, y, test_size=0.2, random_state=42, stratify=y)\n"
   ]
  },
  {
   "cell_type": "code",
   "execution_count": 4,
   "id": "f33465bd-37de-4e96-8d4e-3ec9a597bd3e",
   "metadata": {},
   "outputs": [],
   "source": [
    "# Build the Pipeline\n",
    "\n",
    "from sklearn.pipeline import Pipeline\n",
    "from sklearn.compose import ColumnTransformer\n",
    "from sklearn.preprocessing import StandardScaler, OneHotEncoder\n",
    "from sklearn.ensemble import RandomForestClassifier\n",
    "\n",
    "# define preprocessing \n",
    "numeric_features = ['duration_min', 'popularity', 'artist_frequency']\n",
    "categorical_features = ['genre']\n",
    "\n",
    "preprocessor = ColumnTransformer(\n",
    "    transformers=[\n",
    "        ('num', StandardScaler(), numeric_features),\n",
    "        ('cat', OneHotEncoder(handle_unknown='ignore'), categorical_features)\n",
    "    ])\n",
    "\n",
    "#build pipeline\n",
    "model = Pipeline(steps=[\n",
    "    ('preprocessor', preprocessor),\n",
    "    ('classifier', RandomForestClassifier(class_weight='balanced', random_state=42))\n",
    "])\n",
    "\n",
    "\n",
    "\n"
   ]
  },
  {
   "cell_type": "code",
   "execution_count": 5,
   "id": "36bdc586-072d-456f-aa93-5a4969651a03",
   "metadata": {},
   "outputs": [
    {
     "name": "stdout",
     "output_type": "stream",
     "text": [
      "              precision    recall  f1-score   support\n",
      "\n",
      "           0       0.85      0.95      0.90      1021\n",
      "           1       0.57      0.26      0.36       239\n",
      "\n",
      "    accuracy                           0.82      1260\n",
      "   macro avg       0.71      0.61      0.63      1260\n",
      "weighted avg       0.79      0.82      0.79      1260\n",
      "\n",
      "ROC_AUC: 0.73\n"
     ]
    },
    {
     "data": {
      "image/png": "[encoded data removed]",
      "text/plain": [
       "<Figure size 640x480 with 2 Axes>"
      ]
     },
     "metadata": {},
     "output_type": "display_data"
    }
   ],
   "source": [
    "# Train and Evaluate\n",
    "\n",
    "import matplotlib.pyplot as plt\n",
    "from sklearn.metrics import classification_report, roc_auc_score, ConfusionMatrixDisplay\n",
    "\n",
    "# train\n",
    "model.fit(X_train, y_train)\n",
    "\n",
    "# predict\n",
    "y_pred = model.predict(X_test)\n",
    "# probabilities for AUC\n",
    "y_proba = model.predict_proba(X_test)[:, 1]\n",
    "\n",
    "# evaluate\n",
    "print(classification_report(y_test, y_pred))\n",
    "print(f'ROC_AUC: {roc_auc_score(y_test, y_proba):.2f}')\n",
    "\n",
    "# plot confusion matrix\n",
    "ConfusionMatrixDisplay.from_predictions(y_test, y_pred)\n",
    "plt.show()\n"
   ]
  },
  {
   "cell_type": "code",
   "execution_count": 6,
   "id": "c2b88024-8dfc-43f9-b816-634a760d6474",
   "metadata": {},
   "outputs": [
    {
     "data": {
      "text/plain": [
       "['explicit_predictor.joblib']"
      ]
     },
     "execution_count": 6,
     "metadata": {},
     "output_type": "execute_result"
    }
   ],
   "source": [
    "# Save the trained model\n",
    "import joblib\n",
    "joblib.dump(model, 'explicit_predictor.joblib')"
   ]
  },
  {
   "cell_type": "code",
   "execution_count": 7,
   "id": "432a33eb-1a09-4b81-87f1-7a780e9d0ffb",
   "metadata": {},
   "outputs": [],
   "source": [
    "# Improve model\n",
    "\n",
    "# Option 2: Use SMOTE oversampling\n",
    "from imblearn.over_sampling import SMOTE\n",
    "from imblearn.pipeline import make_pipeline\n",
    "\n",
    "model = make_pipeline(\n",
    "    preprocessor,\n",
    "    SMOTE(random_state=42),\n",
    "    RandomForestClassifier(random_state=42)\n",
    ")"
   ]
  },
  {
   "cell_type": "code",
   "execution_count": 8,
   "id": "b9838ed1-5f4a-43c3-ad81-58bf80dcc105",
   "metadata": {},
   "outputs": [],
   "source": [
    "# different models\n",
    "\n",
    "from xgboost import XGBClassifier\n",
    "from sklearn.linear_model import LogisticRegression\n",
    "\n",
    "# Example with XGBoost\n",
    "model = Pipeline(steps=[\n",
    "    ('preprocessor', preprocessor),\n",
    "    ('classifier', XGBClassifier(scale_pos_weight=sum(y==0)/sum(y==1)))\n",
    "])"
   ]
  },
  {
   "cell_type": "code",
   "execution_count": null,
   "id": "fcb04567-9282-40fa-82fc-4f5a4626fa39",
   "metadata": {},
   "outputs": [],
   "source": []
  }
 ],
 "metadata": {
  "kernelspec": {
   "display_name": "Python 3 (ipykernel)",
   "language": "python",
   "name": "python3"
  },
  "language_info": {
   "codemirror_mode": {
    "name": "ipython",
    "version": 3
   },
   "file_extension": ".py",
   "mimetype": "text/x-python",
   "name": "python",
   "nbconvert_exporter": "python",
   "pygments_lexer": "ipython3",
   "version": "3.12.7"
  }
 },
 "nbformat": 4,
 "nbformat_minor": 5
}
