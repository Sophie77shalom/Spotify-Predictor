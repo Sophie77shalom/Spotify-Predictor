{
 "cells": [
  {
   "cell_type": "code",
   "execution_count": 2,
   "id": "d4f44398-9d1e-4254-b139-26258e6f3811",
   "metadata": {},
   "outputs": [
    {
     "data": {
      "text/plain": [
       "<bound method NDFrame.head of                           id                                           name  \\\n",
       "0     7kr3xZk4yb3YSZ4VFtg2Qt                                       Acoustic   \n",
       "1     1kJygfS4eoVziBBI93MSYp                                       Acoustic   \n",
       "2     6lynns69p4zTCRxmmiSY1x                  Here Comes the Sun - Acoustic   \n",
       "3     1RC9slv335IfLce5vt9KTW                                    Acoustic #3   \n",
       "4     5o9L8xBuILoVjLECSBi7Vo  My Love Mine All Mine - Acoustic Instrumental   \n",
       "...                      ...                                            ...   \n",
       "6295  4uveHSzaz8YEbTF9j6QlCI                             Voyage to Atlantis   \n",
       "6296  4u15cjyziW2Ewn5Ek3082l                                       L'Oiseau   \n",
       "6297  56pHPaTeX2O9aVmTFYS8hV                                   The Daintree   \n",
       "6298  6Ldyc5TsR4kaUsuHKcB2AD                         The Sorcerers Symphony   \n",
       "6299  3ry0f8ybk8upUBIk8unvmF                                Fiore d'inverno   \n",
       "\n",
       "            genre                                     artists  \\\n",
       "0        acoustic                               Billy Raffoul   \n",
       "1        acoustic                               Billy Raffoul   \n",
       "2        acoustic               Molly Hocking, Bailey Rushlow   \n",
       "3        acoustic                           The Goo Goo Dolls   \n",
       "4        acoustic               Guus Dielissen, Casper Esmann   \n",
       "...           ...                                         ...   \n",
       "6295  world-music                          Future World Music   \n",
       "6296  world-music  Putumayo, Marianne Perrudin, Thomas Artaud   \n",
       "6297  world-music                             Joseph Tawadros   \n",
       "6298  world-music                          Future World Music   \n",
       "6299  world-music                  Putumayo, Giacomo Lariccia   \n",
       "\n",
       "                                              album  popularity  duration_ms  \\\n",
       "0                                              1975          58       172199   \n",
       "1                           A Few More Hours at YYZ          57       172202   \n",
       "2                     Here Comes the Sun (Acoustic)          42       144786   \n",
       "3                                 Dizzy up the Girl          46       116573   \n",
       "4     My Love Mine All Mine (Acoustic Instrumental)          33       133922   \n",
       "...                                             ...         ...          ...   \n",
       "6295                             Reign of Vengeance          25       180001   \n",
       "6296                  Global Relaxation by Putumayo          25       276776   \n",
       "6297                                    World Music          12        69533   \n",
       "6298                                         Behold          26        90001   \n",
       "6299                      World Party 5 by Putumayo          25       141800   \n",
       "\n",
       "      explicit  \n",
       "0        False  \n",
       "1        False  \n",
       "2        False  \n",
       "3        False  \n",
       "4        False  \n",
       "...        ...  \n",
       "6295     False  \n",
       "6296     False  \n",
       "6297     False  \n",
       "6298     False  \n",
       "6299     False  \n",
       "\n",
       "[6300 rows x 8 columns]>"
      ]
     },
     "execution_count": 2,
     "metadata": {},
     "output_type": "execute_result"
    }
   ],
   "source": [
    "import numpy as np\n",
    "import pandas as pd\n",
    "\n",
    "df = pd.read_csv(\"spotify_tracks.csv\")\n",
    "df.head"
   ]
  },
  {
   "cell_type": "code",
   "execution_count": 3,
   "id": "4a6de78c-141a-431d-9a38-dea08d878f9f",
   "metadata": {},
   "outputs": [
    {
     "data": {
      "text/plain": [
       "Index(['id', 'name', 'genre', 'artists', 'album', 'popularity', 'duration_ms',\n",
       "       'explicit'],\n",
       "      dtype='object')"
      ]
     },
     "execution_count": 3,
     "metadata": {},
     "output_type": "execute_result"
    }
   ],
   "source": [
    "df.columns"
   ]
  },
  {
   "cell_type": "code",
   "execution_count": 4,
   "id": "a3dcdb0a-14ab-44e4-884e-130549170836",
   "metadata": {},
   "outputs": [
    {
     "data": {
      "image/png": "[encoded data removed]",
      "text/plain": [
       "<Figure size 640x480 with 1 Axes>"
      ]
     },
     "metadata": {},
     "output_type": "display_data"
    }
   ],
   "source": [
    "import matplotlib.pyplot as plt\n",
    "plt.hist(df['popularity'], bins=20)\n",
    "plt.title(\"My spotify data\")\n",
    "plt.show()"
   ]
  },
  {
   "cell_type": "code",
   "execution_count": 5,
   "id": "5b65ae3f-7e42-4d32-9bf6-0f1d3b660ea8",
   "metadata": {},
   "outputs": [
    {
     "data": {
      "text/plain": [
       "id             0\n",
       "name           0\n",
       "genre          0\n",
       "artists        0\n",
       "album          0\n",
       "popularity     0\n",
       "duration_ms    0\n",
       "explicit       0\n",
       "dtype: int64"
      ]
     },
     "execution_count": 5,
     "metadata": {},
     "output_type": "execute_result"
    }
   ],
   "source": [
    "# data preprocessing\n",
    "\n",
    "#check for missing values\n",
    "df.isnull().sum()\n"
   ]
  },
  {
   "cell_type": "code",
   "execution_count": 6,
   "id": "f28cf227-4f28-4013-954a-1439150e682a",
   "metadata": {},
   "outputs": [],
   "source": [
    "# feature engineering\n",
    "\n",
    "# Convert duration_ms to minutes\n",
    "df['duration_min'] = df['duration_ms'] / 60000\n",
    "\n",
    "# Extract primary artist (first artist in the list)\n",
    "df['primary_artist'] = df['artists'].str.split(',').str[0]\n",
    "\n",
    "# Create a binary feature for explicit content\n",
    "df['is_explicit'] = df['explicit'].astype(int)  # True=1, False=0"
   ]
  },
  {
   "cell_type": "code",
   "execution_count": 7,
   "id": "0ead58b6-8ce2-411a-8f19-2e42e9c3aede",
   "metadata": {},
   "outputs": [],
   "source": [
    "# encode categorical values \n",
    "\n",
    "# One-Hot Encoding for genre (limit to top 5 genres to avoid too many columns)\n",
    "top_genres = df['genre'].value_counts().nlargest(5).index.tolist()\n",
    "df['genre'] = df['genre'].apply(lambda x: x if x in top_genres else 'Other')\n",
    "genre_dummies = pd.get_dummies(df['genre'], prefix='genre')\n",
    "\n",
    "# Concatenate with original DataFrame\n",
    "df = pd.concat([df, genre_dummies], axis=1)"
   ]
  },
  {
   "cell_type": "code",
   "execution_count": 8,
   "id": "7c2828fe-a3a8-42ea-b395-12f6ce83d6b8",
   "metadata": {},
   "outputs": [
    {
     "name": "stdout",
     "output_type": "stream",
     "text": [
      "Features (X):\n",
      "    popularity  duration_ms\n",
      "0          58       172199\n",
      "1          57       172202\n",
      "2          42       144786\n",
      "3          46       116573\n",
      "4          33       133922\n",
      "\n",
      "Target (y):\n",
      " 0    0\n",
      "1    0\n",
      "2    0\n",
      "3    0\n",
      "4    0\n",
      "Name: liked, dtype: int32\n"
     ]
    }
   ],
   "source": [
    "# split the data into train test set\n",
    "\n",
    "# Define X (features) - Just numeric columns for simplicity\n",
    "X = df[['popularity', 'duration_ms']]  # Example: Using only 2 features\n",
    "\n",
    "# Define y (target) - Create binary 'liked' column (0/1)\n",
    "df['liked'] = (df['popularity'] > 70).astype(int)  # Example: Liked if popularity > 70\n",
    "y = df['liked']\n",
    "\n",
    "print(\"Features (X):\\n\", X.head())\n",
    "print(\"\\nTarget (y):\\n\", y.head())\n",
    "\n",
    "from sklearn.model_selection import train_test_split\n",
    "X_train, X_test, y_train, y_test = train_test_split(X, y, test_size=0.2, random_state=42)"
   ]
  },
  {
   "cell_type": "code",
   "execution_count": 9,
   "id": "bda8a08a-cd00-4fa4-8b3c-fb2ae92016fb",
   "metadata": {},
   "outputs": [
    {
     "name": "stdout",
     "output_type": "stream",
     "text": [
      "Accuracy: 1.00\n"
     ]
    }
   ],
   "source": [
    "## train the model\n",
    "\n",
    "from sklearn.ensemble import RandomForestClassifier\n",
    "from sklearn.metrics import accuracy_score\n",
    "\n",
    "# Initialize and train the model\n",
    "model = RandomForestClassifier(random_state=42)\n",
    "model.fit(X_train, y_train)\n",
    "\n",
    "#predict on test set\n",
    "y_pred = model.predict(X_test)\n",
    "\n",
    "# evaluate\n",
    "accuracy = accuracy_score(y_test, y_pred)\n",
    "print(f'Accuracy: {accuracy:.2f}')\n"
   ]
  },
  {
   "cell_type": "code",
   "execution_count": 10,
   "id": "047f2433-4f2e-4c60-9e47-1d8269b36f2b",
   "metadata": {},
   "outputs": [
    {
     "name": "stdout",
     "output_type": "stream",
     "text": [
      "Best params: {'max_depth': None, 'n_estimators': 50}\n"
     ]
    }
   ],
   "source": [
    "# impove the model\n",
    "\n",
    "# Feature engineering example: Add a new feature\n",
    "df['duration_min'] = df['duration_ms'] / 60000  \n",
    "\n",
    "# Hyperparameter tuning (simple grid search)\n",
    "from sklearn.model_selection import GridSearchCV\n",
    "\n",
    "params = {\n",
    "    'n_estimators': [50, 100],\n",
    "    'max_depth': [None, 5, 10]\n",
    "}\n",
    "\n",
    "grid_search = GridSearchCV(model, params, cv=3)\n",
    "grid_search.fit(X_train, y_train)\n",
    "print(f\"Best params: {grid_search.best_params_}\")"
   ]
  },
  {
   "cell_type": "code",
   "execution_count": 11,
   "id": "e41f0906-7fbf-4e4f-a454-6cbe374c74b1",
   "metadata": {},
   "outputs": [
    {
     "name": "stdout",
     "output_type": "stream",
     "text": [
      "              precision    recall  f1-score   support\n",
      "\n",
      "           0       1.00      1.00      1.00      1224\n",
      "           1       1.00      1.00      1.00        36\n",
      "\n",
      "    accuracy                           1.00      1260\n",
      "   macro avg       1.00      1.00      1.00      1260\n",
      "weighted avg       1.00      1.00      1.00      1260\n",
      "\n"
     ]
    },
    {
     "data": {
      "image/png": "[encoded data removed]",
      "text/plain": [
       "<Figure size 640x480 with 2 Axes>"
      ]
     },
     "metadata": {},
     "output_type": "display_data"
    },
    {
     "data": {
      "image/png": "[encoded data removed]",
      "text/plain": [
       "<Figure size 640x480 with 1 Axes>"
      ]
     },
     "metadata": {},
     "output_type": "display_data"
    }
   ],
   "source": [
    "# evaluate and interpret\n",
    "\n",
    "from sklearn.metrics import classification_report, confusion_matrix\n",
    "\n",
    "# Detailed metrics\n",
    "print(classification_report(y_test, y_pred))\n",
    "\n",
    "# Confusion matrix\n",
    "import seaborn as sns\n",
    "cm = confusion_matrix(y_test, y_pred)\n",
    "sns.heatmap(cm, annot=True, fmt='d')\n",
    "plt.xlabel('Predicted')\n",
    "plt.ylabel('Actual')\n",
    "plt.show()\n",
    "\n",
    "# Feature importance\n",
    "importance = pd.Series(model.feature_importances_)\n",
    "importance.sort_values().plot(kind='barh')\n",
    "plt.title('Feature Importance')\n",
    "plt.show()"
   ]
  },
  {
   "cell_type": "code",
   "execution_count": 12,
   "id": "6fae780a-9207-423b-80e8-fdb5d908056e",
   "metadata": {},
   "outputs": [
    {
     "name": "stdout",
     "output_type": "stream",
     "text": [
      " * Serving Flask app '__main__'\n",
      " * Debug mode: on\n"
     ]
    },
    {
     "name": "stderr",
     "output_type": "stream",
     "text": [
      "WARNING: This is a development server. Do not use it in a production deployment. Use a production WSGI server instead.\n",
      " * Running on http://127.0.0.1:5000\n",
      "Press CTRL+C to quit\n",
      " * Restarting with watchdog (windowsapi)\n"
     ]
    },
    {
     "ename": "SystemExit",
     "evalue": "1",
     "output_type": "error",
     "traceback": [
      "An exception has occurred, use %tb to see the full traceback.\n",
      "\u001b[1;31mSystemExit\u001b[0m\u001b[1;31m:\u001b[0m 1\n"
     ]
    },
    {
     "name": "stderr",
     "output_type": "stream",
     "text": [
      "C:\\Users\\Administrator\\anaconda3\\Lib\\site-packages\\IPython\\core\\interactiveshell.py:3585: UserWarning: To exit: use 'exit', 'quit', or Ctrl-D.\n",
      "  warn(\"To exit: use 'exit', 'quit', or Ctrl-D.\", stacklevel=1)\n"
     ]
    }
   ],
   "source": [
    "# Save model\n",
    "import joblib\n",
    "joblib.dump(model, 'spotify_model.pkl')\n",
    "\n",
    "# Mini Flask app (save as app.py)\n",
    "from flask import Flask, request, jsonify\n",
    "import joblib\n",
    "\n",
    "app = Flask(__name__)\n",
    "model = joblib.load('spotify_model.pkl')\n",
    "\n",
    "@app.route('/predict', methods=['POST'])\n",
    "def predict():\n",
    "    data = request.json\n",
    "    features = [data['danceability'], data['energy'], data['duration_ms'], data['tempo']]\n",
    "    prediction = model.predict([features])[0]\n",
    "    return jsonify({'liked': bool(prediction)})\n",
    "\n",
    "if __name__ == '__main__':\n",
    "    app.run(debug=True)"
   ]
  },
  {
   "cell_type": "code",
   "execution_count": 13,
   "id": "a1b42a98-6a55-4832-8788-a1830a172a89",
   "metadata": {},
   "outputs": [
    {
     "name": "stdout",
     "output_type": "stream",
     "text": [
      "Model saved successfully!\n"
     ]
    }
   ],
   "source": [
    "# 5. Save model (now 'model' exists!)\n",
    "joblib.dump(model, 'spotify_model.pkl')\n",
    "print(\"Model saved successfully!\")"
   ]
  },
  {
   "cell_type": "code",
   "execution_count": null,
   "id": "765c5635-6a7a-4f76-a7ff-f39162e46db4",
   "metadata": {},
   "outputs": [],
   "source": []
  }
 ],
 "metadata": {
  "kernelspec": {
   "display_name": "Python 3 (ipykernel)",
   "language": "python",
   "name": "python3"
  },
  "language_info": {
   "codemirror_mode": {
    "name": "ipython",
    "version": 3
   },
   "file_extension": ".py",
   "mimetype": "text/x-python",
   "name": "python",
   "nbconvert_exporter": "python",
   "pygments_lexer": "ipython3",
   "version": "3.12.7"
  }
 },
 "nbformat": 4,
 "nbformat_minor": 5
}
